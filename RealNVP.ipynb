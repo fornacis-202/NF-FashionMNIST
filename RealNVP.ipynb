{
  "nbformat": 4,
  "nbformat_minor": 0,
  "metadata": {
    "colab": {
      "provenance": [],
      "gpuType": "T4"
    },
    "kernelspec": {
      "name": "python3",
      "display_name": "Python 3"
    },
    "language_info": {
      "name": "python"
    },
    "accelerator": "GPU",
    "widgets": {
      "application/vnd.jupyter.widget-state+json": {
        "7e529077796e4413bfd9dc7eefb145ec": {
          "model_module": "@jupyter-widgets/controls",
          "model_name": "HBoxModel",
          "model_module_version": "1.5.0",
          "state": {
            "_dom_classes": [],
            "_model_module": "@jupyter-widgets/controls",
            "_model_module_version": "1.5.0",
            "_model_name": "HBoxModel",
            "_view_count": null,
            "_view_module": "@jupyter-widgets/controls",
            "_view_module_version": "1.5.0",
            "_view_name": "HBoxView",
            "box_style": "",
            "children": [
              "IPY_MODEL_04dafe30acf44b09ad630ecf24c9141c",
              "IPY_MODEL_b805a7f532ad4475b4268fe609593578",
              "IPY_MODEL_fd4d36cd58a34158b160777fe6068ad2"
            ],
            "layout": "IPY_MODEL_023d9c4cb87c4a5cb44f2250878d7f3e"
          }
        },
        "04dafe30acf44b09ad630ecf24c9141c": {
          "model_module": "@jupyter-widgets/controls",
          "model_name": "HTMLModel",
          "model_module_version": "1.5.0",
          "state": {
            "_dom_classes": [],
            "_model_module": "@jupyter-widgets/controls",
            "_model_module_version": "1.5.0",
            "_model_name": "HTMLModel",
            "_view_count": null,
            "_view_module": "@jupyter-widgets/controls",
            "_view_module_version": "1.5.0",
            "_view_name": "HTMLView",
            "description": "",
            "description_tooltip": null,
            "layout": "IPY_MODEL_5282943635b1407db1d163caf97d6f21",
            "placeholder": "​",
            "style": "IPY_MODEL_56caa3032e4b41df880231332a25e671",
            "value": "100%"
          }
        },
        "b805a7f532ad4475b4268fe609593578": {
          "model_module": "@jupyter-widgets/controls",
          "model_name": "FloatProgressModel",
          "model_module_version": "1.5.0",
          "state": {
            "_dom_classes": [],
            "_model_module": "@jupyter-widgets/controls",
            "_model_module_version": "1.5.0",
            "_model_name": "FloatProgressModel",
            "_view_count": null,
            "_view_module": "@jupyter-widgets/controls",
            "_view_module_version": "1.5.0",
            "_view_name": "ProgressView",
            "bar_style": "success",
            "description": "",
            "description_tooltip": null,
            "layout": "IPY_MODEL_36c33fb1ab284d7cad74a2e371c1d621",
            "max": 20,
            "min": 0,
            "orientation": "horizontal",
            "style": "IPY_MODEL_7e91e61d7b4b4db7bbf046aea4d28d70",
            "value": 20
          }
        },
        "fd4d36cd58a34158b160777fe6068ad2": {
          "model_module": "@jupyter-widgets/controls",
          "model_name": "HTMLModel",
          "model_module_version": "1.5.0",
          "state": {
            "_dom_classes": [],
            "_model_module": "@jupyter-widgets/controls",
            "_model_module_version": "1.5.0",
            "_model_name": "HTMLModel",
            "_view_count": null,
            "_view_module": "@jupyter-widgets/controls",
            "_view_module_version": "1.5.0",
            "_view_name": "HTMLView",
            "description": "",
            "description_tooltip": null,
            "layout": "IPY_MODEL_977cb1273bfa4b769d56766008421479",
            "placeholder": "​",
            "style": "IPY_MODEL_fc5d587ff8d840f3a7d07961e193de4b",
            "value": " 20/20 [18:54&lt;00:00, 56.64s/it]"
          }
        },
        "023d9c4cb87c4a5cb44f2250878d7f3e": {
          "model_module": "@jupyter-widgets/base",
          "model_name": "LayoutModel",
          "model_module_version": "1.2.0",
          "state": {
            "_model_module": "@jupyter-widgets/base",
            "_model_module_version": "1.2.0",
            "_model_name": "LayoutModel",
            "_view_count": null,
            "_view_module": "@jupyter-widgets/base",
            "_view_module_version": "1.2.0",
            "_view_name": "LayoutView",
            "align_content": null,
            "align_items": null,
            "align_self": null,
            "border": null,
            "bottom": null,
            "display": null,
            "flex": null,
            "flex_flow": null,
            "grid_area": null,
            "grid_auto_columns": null,
            "grid_auto_flow": null,
            "grid_auto_rows": null,
            "grid_column": null,
            "grid_gap": null,
            "grid_row": null,
            "grid_template_areas": null,
            "grid_template_columns": null,
            "grid_template_rows": null,
            "height": null,
            "justify_content": null,
            "justify_items": null,
            "left": null,
            "margin": null,
            "max_height": null,
            "max_width": null,
            "min_height": null,
            "min_width": null,
            "object_fit": null,
            "object_position": null,
            "order": null,
            "overflow": null,
            "overflow_x": null,
            "overflow_y": null,
            "padding": null,
            "right": null,
            "top": null,
            "visibility": null,
            "width": null
          }
        },
        "5282943635b1407db1d163caf97d6f21": {
          "model_module": "@jupyter-widgets/base",
          "model_name": "LayoutModel",
          "model_module_version": "1.2.0",
          "state": {
            "_model_module": "@jupyter-widgets/base",
            "_model_module_version": "1.2.0",
            "_model_name": "LayoutModel",
            "_view_count": null,
            "_view_module": "@jupyter-widgets/base",
            "_view_module_version": "1.2.0",
            "_view_name": "LayoutView",
            "align_content": null,
            "align_items": null,
            "align_self": null,
            "border": null,
            "bottom": null,
            "display": null,
            "flex": null,
            "flex_flow": null,
            "grid_area": null,
            "grid_auto_columns": null,
            "grid_auto_flow": null,
            "grid_auto_rows": null,
            "grid_column": null,
            "grid_gap": null,
            "grid_row": null,
            "grid_template_areas": null,
            "grid_template_columns": null,
            "grid_template_rows": null,
            "height": null,
            "justify_content": null,
            "justify_items": null,
            "left": null,
            "margin": null,
            "max_height": null,
            "max_width": null,
            "min_height": null,
            "min_width": null,
            "object_fit": null,
            "object_position": null,
            "order": null,
            "overflow": null,
            "overflow_x": null,
            "overflow_y": null,
            "padding": null,
            "right": null,
            "top": null,
            "visibility": null,
            "width": null
          }
        },
        "56caa3032e4b41df880231332a25e671": {
          "model_module": "@jupyter-widgets/controls",
          "model_name": "DescriptionStyleModel",
          "model_module_version": "1.5.0",
          "state": {
            "_model_module": "@jupyter-widgets/controls",
            "_model_module_version": "1.5.0",
            "_model_name": "DescriptionStyleModel",
            "_view_count": null,
            "_view_module": "@jupyter-widgets/base",
            "_view_module_version": "1.2.0",
            "_view_name": "StyleView",
            "description_width": ""
          }
        },
        "36c33fb1ab284d7cad74a2e371c1d621": {
          "model_module": "@jupyter-widgets/base",
          "model_name": "LayoutModel",
          "model_module_version": "1.2.0",
          "state": {
            "_model_module": "@jupyter-widgets/base",
            "_model_module_version": "1.2.0",
            "_model_name": "LayoutModel",
            "_view_count": null,
            "_view_module": "@jupyter-widgets/base",
            "_view_module_version": "1.2.0",
            "_view_name": "LayoutView",
            "align_content": null,
            "align_items": null,
            "align_self": null,
            "border": null,
            "bottom": null,
            "display": null,
            "flex": null,
            "flex_flow": null,
            "grid_area": null,
            "grid_auto_columns": null,
            "grid_auto_flow": null,
            "grid_auto_rows": null,
            "grid_column": null,
            "grid_gap": null,
            "grid_row": null,
            "grid_template_areas": null,
            "grid_template_columns": null,
            "grid_template_rows": null,
            "height": null,
            "justify_content": null,
            "justify_items": null,
            "left": null,
            "margin": null,
            "max_height": null,
            "max_width": null,
            "min_height": null,
            "min_width": null,
            "object_fit": null,
            "object_position": null,
            "order": null,
            "overflow": null,
            "overflow_x": null,
            "overflow_y": null,
            "padding": null,
            "right": null,
            "top": null,
            "visibility": null,
            "width": null
          }
        },
        "7e91e61d7b4b4db7bbf046aea4d28d70": {
          "model_module": "@jupyter-widgets/controls",
          "model_name": "ProgressStyleModel",
          "model_module_version": "1.5.0",
          "state": {
            "_model_module": "@jupyter-widgets/controls",
            "_model_module_version": "1.5.0",
            "_model_name": "ProgressStyleModel",
            "_view_count": null,
            "_view_module": "@jupyter-widgets/base",
            "_view_module_version": "1.2.0",
            "_view_name": "StyleView",
            "bar_color": null,
            "description_width": ""
          }
        },
        "977cb1273bfa4b769d56766008421479": {
          "model_module": "@jupyter-widgets/base",
          "model_name": "LayoutModel",
          "model_module_version": "1.2.0",
          "state": {
            "_model_module": "@jupyter-widgets/base",
            "_model_module_version": "1.2.0",
            "_model_name": "LayoutModel",
            "_view_count": null,
            "_view_module": "@jupyter-widgets/base",
            "_view_module_version": "1.2.0",
            "_view_name": "LayoutView",
            "align_content": null,
            "align_items": null,
            "align_self": null,
            "border": null,
            "bottom": null,
            "display": null,
            "flex": null,
            "flex_flow": null,
            "grid_area": null,
            "grid_auto_columns": null,
            "grid_auto_flow": null,
            "grid_auto_rows": null,
            "grid_column": null,
            "grid_gap": null,
            "grid_row": null,
            "grid_template_areas": null,
            "grid_template_columns": null,
            "grid_template_rows": null,
            "height": null,
            "justify_content": null,
            "justify_items": null,
            "left": null,
            "margin": null,
            "max_height": null,
            "max_width": null,
            "min_height": null,
            "min_width": null,
            "object_fit": null,
            "object_position": null,
            "order": null,
            "overflow": null,
            "overflow_x": null,
            "overflow_y": null,
            "padding": null,
            "right": null,
            "top": null,
            "visibility": null,
            "width": null
          }
        },
        "fc5d587ff8d840f3a7d07961e193de4b": {
          "model_module": "@jupyter-widgets/controls",
          "model_name": "DescriptionStyleModel",
          "model_module_version": "1.5.0",
          "state": {
            "_model_module": "@jupyter-widgets/controls",
            "_model_module_version": "1.5.0",
            "_model_name": "DescriptionStyleModel",
            "_view_count": null,
            "_view_module": "@jupyter-widgets/base",
            "_view_module_version": "1.2.0",
            "_view_name": "StyleView",
            "description_width": ""
          }
        }
      }
    }
  },
  "cells": [
    {
      "cell_type": "markdown",
      "source": [
        "Import libraries"
      ],
      "metadata": {
        "id": "pDog4lwqpfM1"
      }
    },
    {
      "cell_type": "code",
      "execution_count": 11,
      "metadata": {
        "id": "TpaqylCbioI2"
      },
      "outputs": [],
      "source": [
        "import torch\n",
        "import torch.nn as nn\n",
        "import torch.optim as optim\n",
        "from torchvision import datasets, transforms\n",
        "from torch.utils.data import DataLoader\n",
        "import matplotlib.pyplot as plt\n",
        "from tqdm.auto import tqdm\n",
        "import numpy as np"
      ]
    },
    {
      "cell_type": "markdown",
      "source": [
        "Set device"
      ],
      "metadata": {
        "id": "-E4Q2XvwvJJE"
      }
    },
    {
      "cell_type": "code",
      "source": [
        "device = \"cuda\" if torch.cuda.is_available() else \"cpu\"\n",
        "print(device)"
      ],
      "metadata": {
        "colab": {
          "base_uri": "https://localhost:8080/"
        },
        "id": "j5UZORzxvLb1",
        "outputId": "98408f19-4a2f-4ee4-806a-f880f06633d6"
      },
      "execution_count": 3,
      "outputs": [
        {
          "output_type": "stream",
          "name": "stdout",
          "text": [
            "cuda\n"
          ]
        }
      ]
    },
    {
      "cell_type": "markdown",
      "source": [
        "Load Fashion MNIST"
      ],
      "metadata": {
        "id": "3h9JmFddpiM9"
      }
    },
    {
      "cell_type": "code",
      "source": [
        "transform = transforms.Compose([transforms.ToTensor(), transforms.Normalize((0.5,), (0.5,))])\n",
        "train_dataset = datasets.FashionMNIST(root='./data', train=True, download=True, transform=transform)\n",
        "test_dataset = datasets.FashionMNIST(root='./data', train=False, download=True, transform=transform)\n",
        "train_loader = DataLoader(train_dataset, batch_size=64, shuffle=True)\n",
        "test_loader = DataLoader(test_dataset, batch_size=64, shuffle=False)"
      ],
      "metadata": {
        "id": "IvUzBai6pUxP",
        "colab": {
          "base_uri": "https://localhost:8080/"
        },
        "outputId": "55317341-255a-4e4d-c5e1-20998e6b4f73"
      },
      "execution_count": 4,
      "outputs": [
        {
          "output_type": "stream",
          "name": "stdout",
          "text": [
            "Downloading http://fashion-mnist.s3-website.eu-central-1.amazonaws.com/train-images-idx3-ubyte.gz\n",
            "Downloading http://fashion-mnist.s3-website.eu-central-1.amazonaws.com/train-images-idx3-ubyte.gz to ./data/FashionMNIST/raw/train-images-idx3-ubyte.gz\n"
          ]
        },
        {
          "output_type": "stream",
          "name": "stderr",
          "text": [
            "100%|██████████| 26.4M/26.4M [00:02<00:00, 11.3MB/s]\n"
          ]
        },
        {
          "output_type": "stream",
          "name": "stdout",
          "text": [
            "Extracting ./data/FashionMNIST/raw/train-images-idx3-ubyte.gz to ./data/FashionMNIST/raw\n",
            "\n",
            "Downloading http://fashion-mnist.s3-website.eu-central-1.amazonaws.com/train-labels-idx1-ubyte.gz\n",
            "Downloading http://fashion-mnist.s3-website.eu-central-1.amazonaws.com/train-labels-idx1-ubyte.gz to ./data/FashionMNIST/raw/train-labels-idx1-ubyte.gz\n"
          ]
        },
        {
          "output_type": "stream",
          "name": "stderr",
          "text": [
            "100%|██████████| 29.5k/29.5k [00:00<00:00, 174kB/s]\n"
          ]
        },
        {
          "output_type": "stream",
          "name": "stdout",
          "text": [
            "Extracting ./data/FashionMNIST/raw/train-labels-idx1-ubyte.gz to ./data/FashionMNIST/raw\n",
            "\n",
            "Downloading http://fashion-mnist.s3-website.eu-central-1.amazonaws.com/t10k-images-idx3-ubyte.gz\n",
            "Downloading http://fashion-mnist.s3-website.eu-central-1.amazonaws.com/t10k-images-idx3-ubyte.gz to ./data/FashionMNIST/raw/t10k-images-idx3-ubyte.gz\n"
          ]
        },
        {
          "output_type": "stream",
          "name": "stderr",
          "text": [
            "100%|██████████| 4.42M/4.42M [00:01<00:00, 3.10MB/s]\n"
          ]
        },
        {
          "output_type": "stream",
          "name": "stdout",
          "text": [
            "Extracting ./data/FashionMNIST/raw/t10k-images-idx3-ubyte.gz to ./data/FashionMNIST/raw\n",
            "\n",
            "Downloading http://fashion-mnist.s3-website.eu-central-1.amazonaws.com/t10k-labels-idx1-ubyte.gz\n",
            "Downloading http://fashion-mnist.s3-website.eu-central-1.amazonaws.com/t10k-labels-idx1-ubyte.gz to ./data/FashionMNIST/raw/t10k-labels-idx1-ubyte.gz\n"
          ]
        },
        {
          "output_type": "stream",
          "name": "stderr",
          "text": [
            "100%|██████████| 5.15k/5.15k [00:00<00:00, 24.7MB/s]"
          ]
        },
        {
          "output_type": "stream",
          "name": "stdout",
          "text": [
            "Extracting ./data/FashionMNIST/raw/t10k-labels-idx1-ubyte.gz to ./data/FashionMNIST/raw\n",
            "\n"
          ]
        },
        {
          "output_type": "stream",
          "name": "stderr",
          "text": [
            "\n"
          ]
        }
      ]
    },
    {
      "cell_type": "code",
      "source": [
        "class RealNVP(nn.Module):\n",
        "  def __init__(self, num_layers):\n",
        "    super(RealNVP, self).__init__()\n",
        "    self.num_layers = num_layers\n",
        "    self.prior = torch.distributions.MultivariateNormal(torch.zeros(28 * 28), torch.eye(28 * 28))\n",
        "    self.coupling_layers = nn.ModuleList()\n",
        "    self.permutation_layers = nn.ModuleList()\n",
        "    for _ in range(num_layers):\n",
        "      self.coupling_layers.append(CouplingLayer(28 * 28))\n",
        "      self.permutation_layers.append(PermutationLayer(28 * 28))\n",
        "\n",
        "  def forward(self, x):\n",
        "    log_det_J = 0\n",
        "    for coupling_layer, permutation_layer in zip(self.coupling_layers, self.permutation_layers):\n",
        "      x, log_det = coupling_layer(x)\n",
        "      log_det_J += log_det\n",
        "      x = permutation_layer(x)\n",
        "    return x, log_det_J\n",
        "\n",
        "  def inverse(self, z):\n",
        "    log_det_J = 0\n",
        "    for coupling_layer, permutation_layer in zip(reversed(self.coupling_layers), reversed(self.permutation_layers)):\n",
        "      z = permutation_layer.inverse(z)\n",
        "      z, log_det = coupling_layer.inverse(z)\n",
        "      log_det_J += log_det\n",
        "    return z, log_det_J\n",
        "\n",
        "  def log_prob(self, x):\n",
        "    z, log_det_J = self.forward(x)\n",
        "    log_pz = self.prior.log_prob(z)\n",
        "    return log_pz + log_det_J\n",
        "\n",
        "  def to(self, device):\n",
        "    self.prior.loc = self.prior.loc.to(device)\n",
        "    self.prior.covariance_matrix = self.prior.covariance_matrix.to(device)\n",
        "    self.prior._unbroadcasted_scale_tril = self.prior._unbroadcasted_scale_tril.to(device)\n",
        "    for layer in self.coupling_layers:\n",
        "      layer.to(device)\n",
        "    for layer in self.permutation_layers:\n",
        "      layer.to(device)\n",
        "    return super().to(device)\n",
        "\n",
        "class CouplingLayer(nn.Module):\n",
        "  def __init__(self, input_size):\n",
        "    super(CouplingLayer, self).__init__()\n",
        "    self.mask = (torch.arange(0, input_size) % 2).to(device)  # masking as in RealNVP paper\n",
        "    self.s = nn.Sequential(\n",
        "      nn.Linear(input_size, 1024),\n",
        "      nn.LeakyReLU(),\n",
        "      nn.Linear(1024, 1024),\n",
        "      nn.LeakyReLU(),\n",
        "      nn.Linear(1024, input_size),\n",
        "      nn.Tanh()\n",
        "      )\n",
        "    self.t = nn.Sequential(\n",
        "      nn.Linear(input_size, 1024),\n",
        "      nn.LeakyReLU(),\n",
        "      nn.Linear(1024, 1024),\n",
        "      nn.LeakyReLU(),\n",
        "      nn.Linear(1024, input_size),\n",
        "      )\n",
        "\n",
        "  def forward(self, x):\n",
        "    x1 = x * self.mask\n",
        "    s = self.s(x1) * (1 - self.mask)\n",
        "    t = self.t(x1) * (1 - self.mask)\n",
        "    z = x1 + (1 - self.mask) * (x * torch.exp(s) + t)\n",
        "    log_det_J = s.sum(dim=1)\n",
        "    return z, log_det_J\n",
        "\n",
        "  def inverse(self, z):\n",
        "    z1 = z * self.mask\n",
        "    s = self.s(z1) * (1 - self.mask)\n",
        "    t = self.t(z1) * (1 - self.mask)\n",
        "    x = z1 + (1 - self.mask) * (z - t) * torch.exp(-s)\n",
        "    log_det_J = -s.sum(dim=1)\n",
        "    return x, log_det_J\n",
        "\n",
        "class PermutationLayer(nn.Module):\n",
        "  def __init__(self, input_size):\n",
        "    super(PermutationLayer, self).__init__()\n",
        "    permutation_indices = torch.randperm(input_size)\n",
        "    permutation_matrix = torch.zeros(input_size, input_size)\n",
        "    permutation_matrix[range(input_size), permutation_indices] = 1\n",
        "    if torch.det(permutation_matrix) == -1:  # to ensure the permutation determinant is 1\n",
        "      permutation_indices[0], permutation_indices[1] = permutation_indices[1], permutation_indices[0]\n",
        "      permutation_matrix[range(input_size), permutation_indices] = 1\n",
        "\n",
        "    self.permutation_matrix = nn.Parameter(permutation_matrix, requires_grad=False)\n",
        "\n",
        "  def forward(self, x):\n",
        "    return x @ self.permutation_matrix\n",
        "\n",
        "  def inverse(self, y):\n",
        "    return y @ torch.inverse(self.permutation_matrix)"
      ],
      "metadata": {
        "id": "YIbrAY_bwZlQ"
      },
      "execution_count": 5,
      "outputs": []
    },
    {
      "cell_type": "markdown",
      "source": [
        "create model and optimizer"
      ],
      "metadata": {
        "id": "41Uc_s55vYp7"
      }
    },
    {
      "cell_type": "code",
      "source": [
        "model = RealNVP(12).to(device)\n",
        "optimizer = optim.Adam(model.parameters(), lr=1e-4, weight_decay = 1e-5)"
      ],
      "metadata": {
        "id": "5kSXbLA1vXwi"
      },
      "execution_count": 42,
      "outputs": []
    },
    {
      "cell_type": "code",
      "source": [
        "# Training loop\n",
        "EPOCHS = 20\n",
        "train_losses = []\n",
        "test_losses = []\n",
        "\n",
        "for epoch in tqdm(range(EPOCHS)):\n",
        "  model.train()\n",
        "  total_train_loss = 0\n",
        "  for x_train, _ in train_loader:\n",
        "    x_train = x_train.view(x_train.size(0), -1).to(device)\n",
        "    optimizer.zero_grad()\n",
        "    loss = -model.log_prob(x_train).mean()\n",
        "    loss.backward()\n",
        "    optimizer.step()\n",
        "    total_train_loss += loss.item()\n",
        "\n",
        "  train_losses.append(total_train_loss / len(train_loader))\n",
        "\n",
        "  model.eval()\n",
        "  total_test_loss = 0\n",
        "  with torch.no_grad():\n",
        "    for x_test, _ in test_loader:\n",
        "      x_test = x_test.view(x_test.size(0), -1).to(device)\n",
        "      loss = -model.log_prob(x_test).mean()\n",
        "      total_test_loss += loss.item()\n",
        "\n",
        "  test_losses.append(total_test_loss / len(test_loader))\n",
        "  print(f'Epoch {epoch + 1}, Train Loss: {train_losses[-1]}, Test Loss: {test_losses[-1]}')"
      ],
      "metadata": {
        "id": "SUF5LbjqweSo",
        "colab": {
          "base_uri": "https://localhost:8080/",
          "height": 404,
          "referenced_widgets": [
            "7e529077796e4413bfd9dc7eefb145ec",
            "04dafe30acf44b09ad630ecf24c9141c",
            "b805a7f532ad4475b4268fe609593578",
            "fd4d36cd58a34158b160777fe6068ad2",
            "023d9c4cb87c4a5cb44f2250878d7f3e",
            "5282943635b1407db1d163caf97d6f21",
            "56caa3032e4b41df880231332a25e671",
            "36c33fb1ab284d7cad74a2e371c1d621",
            "7e91e61d7b4b4db7bbf046aea4d28d70",
            "977cb1273bfa4b769d56766008421479",
            "fc5d587ff8d840f3a7d07961e193de4b"
          ]
        },
        "outputId": "da1e4657-59b6-475d-8d95-b0a352711744"
      },
      "execution_count": 43,
      "outputs": [
        {
          "output_type": "display_data",
          "data": {
            "text/plain": [
              "  0%|          | 0/20 [00:00<?, ?it/s]"
            ],
            "application/vnd.jupyter.widget-view+json": {
              "version_major": 2,
              "version_minor": 0,
              "model_id": "7e529077796e4413bfd9dc7eefb145ec"
            }
          },
          "metadata": {}
        },
        {
          "output_type": "stream",
          "name": "stdout",
          "text": [
            "Epoch 1, Train Loss: -667.5048028888987, Test Loss: -937.0909493804737\n",
            "Epoch 2, Train Loss: -1076.7607099781158, Test Loss: -1116.4450392024532\n",
            "Epoch 3, Train Loss: -1218.999623898504, Test Loss: -1241.6890410405056\n",
            "Epoch 4, Train Loss: -1306.9729929194013, Test Loss: -1295.5432354386446\n",
            "Epoch 5, Train Loss: -1373.7831335006747, Test Loss: -1346.924469577279\n",
            "Epoch 6, Train Loss: -1425.6263492803837, Test Loss: -1385.4418160019407\n",
            "Epoch 7, Train Loss: -1463.9126996851678, Test Loss: -1415.9386631667994\n",
            "Epoch 8, Train Loss: -1502.1176312737373, Test Loss: -1431.8633426739152\n",
            "Epoch 9, Train Loss: -1532.6033169028601, Test Loss: -1479.0847712231289\n",
            "Epoch 10, Train Loss: -1559.8583651219349, Test Loss: -1468.2582891184813\n",
            "Epoch 11, Train Loss: -1584.581804938408, Test Loss: -1499.3824447340266\n",
            "Epoch 12, Train Loss: -1607.10382457481, Test Loss: -1486.6270098838077\n",
            "Epoch 13, Train Loss: -1626.6630398683203, Test Loss: -1519.9091960153762\n",
            "Epoch 14, Train Loss: -1643.2508283342634, Test Loss: -1526.3068159552897\n",
            "Epoch 15, Train Loss: -1661.9681602103879, Test Loss: -1526.0694937736366\n",
            "Epoch 16, Train Loss: -1677.8673793247767, Test Loss: -1544.7097482863505\n",
            "Epoch 17, Train Loss: -1692.3842415555455, Test Loss: -1505.4515925121914\n",
            "Epoch 18, Train Loss: -1703.9403764606793, Test Loss: -1549.8117325898188\n",
            "Epoch 19, Train Loss: -1718.635703275961, Test Loss: -1538.0158209345143\n",
            "Epoch 20, Train Loss: -1731.7957093456407, Test Loss: -1478.1772044965417\n"
          ]
        }
      ]
    },
    {
      "cell_type": "code",
      "source": [
        "plt.figure(figsize=(10, 5))\n",
        "plt.plot(range(1, EPOCHS + 1), train_losses, label='Train Loss')\n",
        "plt.plot(range(1, EPOCHS + 1), test_losses, label='Test Loss')\n",
        "plt.xlabel('Epoch')\n",
        "plt.ylabel('Loss')\n",
        "plt.legend()\n",
        "plt.title('Training and Test Losses')\n",
        "plt.show()"
      ],
      "metadata": {
        "id": "xOiBLwotuROW",
        "colab": {
          "base_uri": "https://localhost:8080/",
          "height": 487
        },
        "outputId": "cbe57d74-7afd-447e-a57e-21155248b8c6"
      },
      "execution_count": 44,
      "outputs": [
        {
          "output_type": "display_data",
          "data": {
            "text/plain": [
              "<Figure size 1000x500 with 1 Axes>"
            ],
            "image/png": "[encoded data removed]"
          },
          "metadata": {}
        }
      ]
    },
    {
      "cell_type": "code",
      "source": [
        "with torch.no_grad():\n",
        "  z = torch.randn(9, model.prior.loc.shape[0]).to(device)\n",
        "  samples, _ = model.inverse(z)\n",
        "\n",
        "samples = samples.view(9, 28, 28)\n",
        "\n",
        "fig, axs = plt.subplots(3, 3, figsize=(6, 6))\n",
        "for i in range(3):\n",
        "  for j in range(3):\n",
        "    axs[i, j].imshow(samples[i * 3 + j].cpu().numpy(), cmap='gray')\n",
        "    axs[i, j].axis('off')\n",
        "plt.show()\n"
      ],
      "metadata": {
        "colab": {
          "base_uri": "https://localhost:8080/",
          "height": 499
        },
        "id": "o4AItBsqMGMI",
        "outputId": "18940f56-cdcf-4c2b-ed79-bd150b08e8d5"
      },
      "execution_count": 53,
      "outputs": [
        {
          "output_type": "display_data",
          "data": {
            "text/plain": [
              "<Figure size 600x600 with 9 Axes>"
            ],
            "image/png": "[encoded data removed]"
          },
          "metadata": {}
        }
      ]
    },
    {
      "cell_type": "code",
      "source": [
        "kmnist_dataset = datasets.KMNIST(root='./data', train=True, download=True, transform=transform)\n",
        "kmnist_loader = DataLoader(kmnist_dataset, batch_size=64, shuffle=False)\n",
        "\n",
        "mnist_dataset = datasets.MNIST(root='./data', train=True, download=True, transform=transform)\n",
        "mnist_loader = DataLoader(mnist_dataset, batch_size=64, shuffle=False)"
      ],
      "metadata": {
        "id": "_CH87PtOTl3q"
      },
      "execution_count": 46,
      "outputs": []
    },
    {
      "cell_type": "code",
      "source": [
        "def calculate_log_prob(loader, model):\n",
        "  log_probs = []\n",
        "  model.eval()\n",
        "  with torch.no_grad():\n",
        "    for x, _  in loader:\n",
        "      x = x.view(x.size(0), -1).to(device)\n",
        "      log_prob = model.log_prob(x)\n",
        "      log_probs.append(log_prob.cpu().numpy())\n",
        "  return np.concatenate(log_probs)"
      ],
      "metadata": {
        "id": "_NzL4u3mVzsJ"
      },
      "execution_count": 47,
      "outputs": []
    },
    {
      "cell_type": "code",
      "source": [
        "kmnist_log_probs = calculate_log_prob(kmnist_loader, model)\n",
        "mnist_log_probs = calculate_log_prob(mnist_loader, model)\n",
        "fmnist_train_log_probs = calculate_log_prob(train_loader, model)\n",
        "fmnist_test_log_probs = calculate_log_prob(test_loader, model)\n",
        "\n",
        "plt.figure(figsize=(12, 6))\n",
        "lower_bound = -7000\n",
        "upper_bound = 3000\n",
        "\n",
        "plt.hist(kmnist_log_probs, bins=400, alpha=0.5, label='KMNIST', color='yellow', density=True, range=(lower_bound, upper_bound))\n",
        "plt.hist(mnist_log_probs, bins=400, alpha=0.5, label='MNIST', color='red', density=True, range=(lower_bound, upper_bound))\n",
        "plt.hist(fmnist_train_log_probs, bins=400, alpha=0.5, label='FMNIST_train', color='blue', density=True, range=(lower_bound, upper_bound))\n",
        "plt.hist(fmnist_test_log_probs, bins=400, alpha=0.5, label='FMNIST_test', color='green', density=True, range=(lower_bound, upper_bound))\n",
        "\n",
        "plt.xlabel('Log Probability')\n",
        "plt.ylabel('Fraction of Samples')\n",
        "plt.legend(loc='upper left')\n",
        "\n",
        "plt.show()\n"
      ],
      "metadata": {
        "colab": {
          "base_uri": "https://localhost:8080/",
          "height": 542
        },
        "id": "n_WhBzByVmY4",
        "outputId": "e5edbc57-d292-4f55-91dc-b94379ea4b12"
      },
      "execution_count": 52,
      "outputs": [
        {
          "output_type": "display_data",
          "data": {
            "text/plain": [
              "<Figure size 1200x600 with 1 Axes>"
            ],
            "image/png": "[encoded data removed]"
          },
          "metadata": {}
        }
      ]
    }
  ]
}